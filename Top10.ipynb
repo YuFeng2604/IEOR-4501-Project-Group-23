{
 "cells": [
  {
   "cell_type": "markdown",
   "id": "b1c023f6-bf8f-42c0-bbe4-1ab0e007eecd",
   "metadata": {},
   "source": [
    "# Importing & Preprocessing"
   ]
  },
  {
   "cell_type": "code",
   "execution_count": null,
   "id": "5061fe80-6f5e-469c-b708-1ac24c1953c0",
   "metadata": {},
   "outputs": [],
   "source": [
    "# Import the necessary modules.\n",
    "import numpy as np\n",
    "import pandas as pd"
   ]
  },
  {
   "cell_type": "code",
   "execution_count": null,
   "id": "14231bc9-4a00-4415-932e-7c769da05de6",
   "metadata": {},
   "outputs": [],
   "source": [
    "# Read the csv file and convert the 'Unique Key' column to the index of our Pandas DataFrame.\n",
    "df = pd.read_csv(\"311_Service_Requests_2020.csv\", index_col = \"Unique Key\", low_memory = False)\n",
    "\n",
    "# Notice that the data type of 'Incident Zip' is float64, which does not look right.\n",
    "df.info()\n",
    "df.head()"
   ]
  },
  {
   "cell_type": "code",
   "execution_count": null,
   "id": "c611d98b",
   "metadata": {},
   "outputs": [],
   "source": [
    "# View the unique entries to 'Incident Zip' to see what is wrong.\n",
    "df[\"Incident Zip\"].unique()"
   ]
  }
 ],
 "metadata": {
  "kernelspec": {
   "display_name": "Python 3 (ipykernel)",
   "language": "python",
   "name": "python3"
  },
  "language_info": {
   "codemirror_mode": {
    "name": "ipython",
    "version": 3
   },
   "file_extension": ".py",
   "mimetype": "text/x-python",
   "name": "python",
   "nbconvert_exporter": "python",
   "pygments_lexer": "ipython3",
   "version": "3.9.7"
  }
 },
 "nbformat": 4,
 "nbformat_minor": 5
}
