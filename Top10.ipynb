{
 "cells": [
  {
   "cell_type": "markdown",
   "id": "b1c023f6-bf8f-42c0-bbe4-1ab0e007eecd",
   "metadata": {},
   "source": [
    "# Importing & Preprocessing"
   ]
  },
  {
   "cell_type": "code",
   "execution_count": null,
   "id": "5061fe80-6f5e-469c-b708-1ac24c1953c0",
   "metadata": {},
   "outputs": [],
   "source": [
    "# Import the necessary modules.\n",
    "import numpy as np\n",
    "import pandas as pd"
   ]
  },
  {
   "cell_type": "code",
   "execution_count": null,
   "id": "14231bc9-4a00-4415-932e-7c769da05de6",
   "metadata": {},
   "outputs": [],
   "source": [
    "# Read the csv file and convert the 'Unique Key' column to the index of our Pandas DataFrame.\n",
    "df = pd.read_csv(\"311_Service_Requests_2020.csv\", index_col = \"Unique Key\", low_memory = False)\n",
    "\n",
    "# Notice that the data type of 'Incident Zip' is float64, which does not look right.\n",
    "df.info()\n",
    "df.head()"
   ]
  },
  {
   "cell_type": "code",
   "execution_count": null,
   "id": "c611d98b",
   "metadata": {},
   "outputs": [],
   "source": [
    "# View the unique entries to 'Incident Zip' to see what is wrong.\n",
    "df[\"Incident Zip\"].unique()"
   ]
  },
  {
   "cell_type": "code",
   "execution_count": null,
   "id": "003f7eda",
   "metadata": {},
   "outputs": [],
   "source": [
    "# From the above zip codes, '83' and 'nan' are definite not valid zip codes, but we need to investigate '12345'.\n",
    "print(df[df[\"Incident Zip\"] > 11697][\"Incident Zip\"].unique()) # '11697' is the maximum zip code in NYC.\n",
    "print(df[df[\"Incident Zip\"] > 11697][\"Incident Address\"].unique()) # Get the addresses of the oversized zip code."
   ]
  },
  {
   "cell_type": "code",
   "execution_count": null,
   "id": "82bc7f07",
   "metadata": {},
   "outputs": [],
   "source": [
    "# From the above addresses, we see that '10030' is incorrectly coded as '12345', and we are ready to fix the zip codes.\n",
    "def fix_zip(zip_code):\n",
    "    \"\"\"\n",
    "    This function corrects all mistaken zip codes in our Pandas DataFrame and converts them to strings.\n",
    "    \"\"\"\n",
    "    try:\n",
    "        result = int(zip_code) # Try to convert a zip code to an integer.\n",
    "        if result < 10001: # '10001' is the minimum zip code in NYC.\n",
    "            return np.NaN\n",
    "        elif result == 12345: # Recode '12345' as '10030'.\n",
    "            return \"10030\"\n",
    "        else:\n",
    "            return str(result) # Return a correct zip code as a string.\n",
    "    except:\n",
    "        return np.NaN # If a zip code, namely 'nan', cannot be converted to an integer, return 'np.NaN'.\n",
    "\n",
    "# Now, we apply the above function to 'Incident Zip' to fix the zip codes in our Pandas DataFrame.\n",
    "df[\"Incident Zip\"] = df[\"Incident Zip\"].apply(fix_zip)"
   ]
  }
 ],
 "metadata": {
  "kernelspec": {
   "display_name": "Python 3 (ipykernel)",
   "language": "python",
   "name": "python3"
  },
  "language_info": {
   "codemirror_mode": {
    "name": "ipython",
    "version": 3
   },
   "file_extension": ".py",
   "mimetype": "text/x-python",
   "name": "python",
   "nbconvert_exporter": "python",
   "pygments_lexer": "ipython3",
   "version": "3.9.7"
  }
 },
 "nbformat": 4,
 "nbformat_minor": 5
}
