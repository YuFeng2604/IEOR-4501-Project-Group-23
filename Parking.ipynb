{
 "cells": [
  {
   "cell_type": "markdown",
   "id": "43de84d0-4ba2-4c71-a5e2-b99531257f26",
   "metadata": {},
   "source": [
    "# Importing & Preprocessing"
   ]
  },
  {
   "cell_type": "markdown",
   "id": "0ddb0d6a-e106-4ae2-a3e5-9b6c3d55d2c3",
   "metadata": {},
   "source": [
    "Please refer to the previous file ***Top10.ipynb*** for detailed comments on the following procedures."
   ]
  },
  {
   "cell_type": "code",
   "execution_count": null,
   "id": "e4b26a9a-0770-4d3c-9083-bec5bdb3a49b",
   "metadata": {},
   "outputs": [],
   "source": [
    "import numpy as np\n",
    "import pandas as pd\n",
    "df = pd.read_csv(\"311_Service_Requests_2020.csv\", index_col = \"Unique Key\", low_memory = False)\n",
    "def fix_zip(zip_code):\n",
    "    try:\n",
    "        result = int(zip_code)\n",
    "        if result < 10001:\n",
    "            return np.NaN\n",
    "        elif result == 12345:\n",
    "            return \"10030\"\n",
    "        else:\n",
    "            return str(result)\n",
    "    except:\n",
    "        return np.NaN\n",
    "df[\"Incident Zip\"] = df[\"Incident Zip\"].apply(fix_zip)"
   ]
  },
  {
   "cell_type": "markdown",
   "id": "d6b4bf3f-03c7-449a-8c8c-16fe142e21dc",
   "metadata": {},
   "source": [
    "# Data Analysis"
   ]
  },
  {
   "cell_type": "code",
   "execution_count": null,
   "id": "d04c08f7-2af0-4564-8f1e-20e747be8159",
   "metadata": {},
   "outputs": [],
   "source": []
  }
 ],
 "metadata": {
  "kernelspec": {
   "display_name": "Python 3 (ipykernel)",
   "language": "python",
   "name": "python3"
  },
  "language_info": {
   "codemirror_mode": {
    "name": "ipython",
    "version": 3
   },
   "file_extension": ".py",
   "mimetype": "text/x-python",
   "name": "python",
   "nbconvert_exporter": "python",
   "pygments_lexer": "ipython3",
   "version": "3.9.7"
  }
 },
 "nbformat": 4,
 "nbformat_minor": 5
}
