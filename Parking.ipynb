{
 "cells": [
  {
   "cell_type": "markdown",
   "id": "43de84d0-4ba2-4c71-a5e2-b99531257f26",
   "metadata": {},
   "source": [
    "# Importing & Preprocessing"
   ]
  },
  {
   "cell_type": "markdown",
   "id": "0ddb0d6a-e106-4ae2-a3e5-9b6c3d55d2c3",
   "metadata": {},
   "source": [
    "Please refer to the previous file ***Top10.ipynb*** for detailed comments on the following procedures."
   ]
  },
  {
   "cell_type": "code",
   "execution_count": null,
   "id": "e4b26a9a-0770-4d3c-9083-bec5bdb3a49b",
   "metadata": {},
   "outputs": [],
   "source": [
    "import numpy as np\n",
    "import pandas as pd\n",
    "df = pd.read_csv(\"311_Service_Requests_2020.csv\", index_col = \"Unique Key\", low_memory = False)\n",
    "def fix_zip(zip_code):\n",
    "    try:\n",
    "        result = int(zip_code)\n",
    "        if result < 10001:\n",
    "            return np.NaN\n",
    "        elif result == 12345:\n",
    "            return \"10030\"\n",
    "        else:\n",
    "            return str(result)\n",
    "    except:\n",
    "        return np.NaN\n",
    "df[\"Incident Zip\"] = df[\"Incident Zip\"].apply(fix_zip)"
   ]
  },
  {
   "cell_type": "markdown",
   "id": "d6b4bf3f-03c7-449a-8c8c-16fe142e21dc",
   "metadata": {},
   "source": [
    "# Data Analysis"
   ]
  },
  {
   "cell_type": "code",
   "execution_count": null,
   "id": "d04c08f7-2af0-4564-8f1e-20e747be8159",
   "metadata": {},
   "outputs": [],
   "source": [
    "# We use Columbia University's zip code, '10027', again for this analysis.\n",
    "df_cu = df[df[\"Incident Zip\"] == \"10027\"]"
   ]
  },
  {
   "cell_type": "code",
   "execution_count": null,
   "id": "ae7f732c",
   "metadata": {},
   "outputs": [],
   "source": [
    "# Use regular expression to check if there are multiple illegal parking incident types in the full Pandas DataFrame.\n",
    "import re\n",
    "pattern = r\".*[Pp]{1}arking.*\"\n",
    "re.findall(pattern, \"\\n\".join(df[\"Complaint Type\"].unique())) # Join by newlines, since '.' in re will stop at newlines."
   ]
  },
  {
   "cell_type": "code",
   "execution_count": null,
   "id": "90100133",
   "metadata": {},
   "outputs": [],
   "source": [
    "# There is no mistake in 'Complaint Type', so we proceed to the calculations.\n",
    "parking_cu = df_cu[df_cu[\"Complaint Type\"] == \"Illegal Parking\"].shape[0]\n",
    "total_cu = df_cu.shape[0]\n",
    "parking_nyc = df[df[\"Complaint Type\"] == \"Illegal Parking\"].shape[0]\n",
    "total_nyc = df.shape[0]\n",
    "\n",
    "# Checking...\n",
    "print(parking_cu == df_cu[\"Complaint Type\"].value_counts()[\"Illegal Parking\"])\n",
    "print(parking_nyc == df[\"Complaint Type\"].value_counts()[\"Illegal Parking\"])"
   ]
  },
  {
   "cell_type": "code",
   "execution_count": null,
   "id": "17c939fc",
   "metadata": {},
   "outputs": [],
   "source": [
    "# Now we check if the fraction of illegal parking incidents is higher near Columbia University or NYC as a whole.\n",
    "parking_proportion_cu = parking_cu / total_cu\n",
    "parking_proportion_nyc = parking_nyc / total_nyc\n",
    "print(f\"The fraction of illegal parking incidents near Columbia University is\\n{parking_proportion_cu}\\n\")\n",
    "print(f\"The fraction of illegal parking incidents in NYC is\\n{parking_proportion_nyc}\")"
   ]
  },
  {
   "cell_type": "code",
   "execution_count": null,
   "id": "a69c528c",
   "metadata": {},
   "outputs": [],
   "source": [
    "# Our final answer.\n",
    "higher_parking_proportion = parking_proportion_cu > parking_proportion_nyc"
   ]
  }
 ],
 "metadata": {
  "kernelspec": {
   "display_name": "Python 3 (ipykernel)",
   "language": "python",
   "name": "python3"
  },
  "language_info": {
   "codemirror_mode": {
    "name": "ipython",
    "version": 3
   },
   "file_extension": ".py",
   "mimetype": "text/x-python",
   "name": "python",
   "nbconvert_exporter": "python",
   "pygments_lexer": "ipython3",
   "version": "3.9.7"
  }
 },
 "nbformat": 4,
 "nbformat_minor": 5
}
